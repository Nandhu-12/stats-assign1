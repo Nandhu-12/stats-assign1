{
 "cells": [
  {
   "cell_type": "markdown",
   "id": "f2473040",
   "metadata": {},
   "source": [
    "# 1. What exactly is the difference between descriptive and inferential statistics?"
   ]
  },
  {
   "cell_type": "markdown",
   "id": "e7930dd5",
   "metadata": {},
   "source": [
    "-->In Descriptive statistics we will be Organizing and Summarizing the data with Measure of Central Tendency and Measure of Dispersion.                     \n",
    "-->In Inferential Statistics we will use the data that is Summarized to form conclusions with the help of Population and Samples."
   ]
  },
  {
   "cell_type": "markdown",
   "id": "bce8f8ee",
   "metadata": {},
   "source": [
    "# 2. I'm not sure what is the difference between a sample and a population?"
   ]
  },
  {
   "cell_type": "markdown",
   "id": "fc831ef0",
   "metadata": {},
   "source": [
    " For example : Sample is like a random thing which we pick from a total population to make some analysis.\n",
    "\n",
    "               Consider 1000 students in School, and we are picking up some random 100 students to form a group.\n",
    "               Likewise in total there are 5 group of students.\n",
    "               \n",
    "               Here Total no. of students = 1000 , this is Population\n",
    "               Random 100 students from that 1000 in groups, this is sample \n",
    "    "
   ]
  },
  {
   "cell_type": "markdown",
   "id": "22f004c1",
   "metadata": {},
   "source": [
    "\n",
    "# 3. What distinguishes descriptive statistics from other types of statistics?"
   ]
  },
  {
   "cell_type": "markdown",
   "id": "37585ab0",
   "metadata": {},
   "source": [
    "The Descriptive statistics desribes the data(sample) where as in inferential statistics we will be predicting on larger \n",
    "dataset based on those samples."
   ]
  },
  {
   "cell_type": "markdown",
   "id": "ebdad6aa",
   "metadata": {},
   "source": [
    "# 4. What is the difference between quantitative and qualitative data?"
   ]
  },
  {
   "cell_type": "markdown",
   "id": "1dd7534e",
   "metadata": {},
   "source": [
    "The Quantitative variable can be measured numerically and there are 2 types discrete and continuous.\n",
    "The Qualitative/Categorical variable can be measured based on some charecteristics by Nominal, Ordinal, Interval and Ratio."
   ]
  },
  {
   "cell_type": "markdown",
   "id": "79f2f0e9",
   "metadata": {},
   "source": [
    "# 5. What is the definition of a percentile?"
   ]
  },
  {
   "cell_type": "markdown",
   "id": "1ba0bb5d",
   "metadata": {},
   "source": [
    "Percentile Generally means how many number of entire distribution lies less than this percentile.                       \n",
    "Percentile = (Total no.of elements before value/Total elements)*100"
   ]
  },
  {
   "cell_type": "code",
   "execution_count": null,
   "id": "138de7d5",
   "metadata": {},
   "outputs": [],
   "source": []
  }
 ],
 "metadata": {
  "kernelspec": {
   "display_name": "Python 3 (ipykernel)",
   "language": "python",
   "name": "python3"
  },
  "language_info": {
   "codemirror_mode": {
    "name": "ipython",
    "version": 3
   },
   "file_extension": ".py",
   "mimetype": "text/x-python",
   "name": "python",
   "nbconvert_exporter": "python",
   "pygments_lexer": "ipython3",
   "version": "3.9.7"
  }
 },
 "nbformat": 4,
 "nbformat_minor": 5
}
